{
 "cells": [
  {
   "cell_type": "code",
   "execution_count": 1,
   "id": "c8680b78",
   "metadata": {},
   "outputs": [],
   "source": [
    "import os\n",
    "import pandas as pd"
   ]
  },
  {
   "cell_type": "code",
   "execution_count": 2,
   "id": "bf4b74ae",
   "metadata": {},
   "outputs": [],
   "source": [
    "# tsv_files = [tmp for tmp in os.listdir('/mnt/c/users/scorp/Downloads') if \"tsv.gz\" in tmp]\n",
    "# for tsv_file in tsv_files:\n",
    "#     tmp_table = pd.read_table(\"/mnt/c/users/scorp/Downloads/\" + tsv_file,sep='\\t')\n",
    "#     tmp_table.to_csv(os.curdir+tsv_file.replace('tsv.gz', 'csv'))"
   ]
  },
  {
   "cell_type": "code",
   "execution_count": 14,
   "id": "69d4c7cc",
   "metadata": {},
   "outputs": [
    {
     "data": {
      "text/plain": [
       "['aka_name.csv',\n",
       " 'aka_title.csv',\n",
       " 'cast_info.csv',\n",
       " 'char_name.csv',\n",
       " 'company_name.csv',\n",
       " 'company_type.csv',\n",
       " 'complete_cast.csv',\n",
       " 'comp_cast_type.csv',\n",
       " 'info_type.csv',\n",
       " 'keyword.csv',\n",
       " 'kind_type.csv',\n",
       " 'link_type.csv',\n",
       " 'movie_companies.csv',\n",
       " 'movie_info.csv',\n",
       " 'movie_info_idx.csv',\n",
       " 'movie_keyword.csv',\n",
       " 'movie_link.csv',\n",
       " 'name.csv',\n",
       " 'person_info.csv',\n",
       " 'role_type.csv',\n",
       " 'title.csv']"
      ]
     },
     "execution_count": 14,
     "metadata": {},
     "output_type": "execute_result"
    }
   ],
   "source": [
    "csv_files = os.listdir('./data/imdb')\n",
    "csv_files"
   ]
  },
  {
   "cell_type": "code",
   "execution_count": 15,
   "id": "4ee9d477",
   "metadata": {},
   "outputs": [
    {
     "data": {
      "text/plain": [
       "21"
      ]
     },
     "execution_count": 15,
     "metadata": {},
     "output_type": "execute_result"
    }
   ],
   "source": [
    "len(csv_files)"
   ]
  },
  {
   "cell_type": "code",
   "execution_count": 12,
   "id": "3c2fa3bd",
   "metadata": {},
   "outputs": [],
   "source": [
    "name_df = pd.read_csv(os.path.join(os.curdir, 'data', 'imdb', '.name.basics.csv'), index_col=0, na_values=[\"\\\\N\", \"NaN\"])"
   ]
  },
  {
   "cell_type": "code",
   "execution_count": 13,
   "id": "e467a9cd",
   "metadata": {},
   "outputs": [
    {
     "data": {
      "text/html": [
       "<div>\n",
       "<style scoped>\n",
       "    .dataframe tbody tr th:only-of-type {\n",
       "        vertical-align: middle;\n",
       "    }\n",
       "\n",
       "    .dataframe tbody tr th {\n",
       "        vertical-align: top;\n",
       "    }\n",
       "\n",
       "    .dataframe thead th {\n",
       "        text-align: right;\n",
       "    }\n",
       "</style>\n",
       "<table border=\"1\" class=\"dataframe\">\n",
       "  <thead>\n",
       "    <tr style=\"text-align: right;\">\n",
       "      <th></th>\n",
       "      <th>nconst</th>\n",
       "      <th>primaryName</th>\n",
       "      <th>birthYear</th>\n",
       "      <th>deathYear</th>\n",
       "      <th>primaryProfession</th>\n",
       "      <th>knownForTitles</th>\n",
       "    </tr>\n",
       "  </thead>\n",
       "  <tbody>\n",
       "    <tr>\n",
       "      <th>0</th>\n",
       "      <td>nm0000001</td>\n",
       "      <td>Fred Astaire</td>\n",
       "      <td>1899.0</td>\n",
       "      <td>1987.0</td>\n",
       "      <td>soundtrack,actor,miscellaneous</td>\n",
       "      <td>tt0050419,tt0031983,tt0072308,tt0053137</td>\n",
       "    </tr>\n",
       "    <tr>\n",
       "      <th>1</th>\n",
       "      <td>nm0000002</td>\n",
       "      <td>Lauren Bacall</td>\n",
       "      <td>1924.0</td>\n",
       "      <td>2014.0</td>\n",
       "      <td>actress,soundtrack</td>\n",
       "      <td>tt0071877,tt0038355,tt0037382,tt0117057</td>\n",
       "    </tr>\n",
       "    <tr>\n",
       "      <th>2</th>\n",
       "      <td>nm0000003</td>\n",
       "      <td>Brigitte Bardot</td>\n",
       "      <td>1934.0</td>\n",
       "      <td>NaN</td>\n",
       "      <td>actress,soundtrack,music_department</td>\n",
       "      <td>tt0049189,tt0056404,tt0057345,tt0054452</td>\n",
       "    </tr>\n",
       "    <tr>\n",
       "      <th>3</th>\n",
       "      <td>nm0000004</td>\n",
       "      <td>John Belushi</td>\n",
       "      <td>1949.0</td>\n",
       "      <td>1982.0</td>\n",
       "      <td>actor,soundtrack,writer</td>\n",
       "      <td>tt0080455,tt0072562,tt0077975,tt0078723</td>\n",
       "    </tr>\n",
       "    <tr>\n",
       "      <th>4</th>\n",
       "      <td>nm0000005</td>\n",
       "      <td>Ingmar Bergman</td>\n",
       "      <td>1918.0</td>\n",
       "      <td>2007.0</td>\n",
       "      <td>writer,director,actor</td>\n",
       "      <td>tt0050986,tt0060827,tt0083922,tt0050976</td>\n",
       "    </tr>\n",
       "    <tr>\n",
       "      <th>...</th>\n",
       "      <td>...</td>\n",
       "      <td>...</td>\n",
       "      <td>...</td>\n",
       "      <td>...</td>\n",
       "      <td>...</td>\n",
       "      <td>...</td>\n",
       "    </tr>\n",
       "    <tr>\n",
       "      <th>12093619</th>\n",
       "      <td>nm9993714</td>\n",
       "      <td>Romeo del Rosario</td>\n",
       "      <td>NaN</td>\n",
       "      <td>NaN</td>\n",
       "      <td>animation_department,art_department</td>\n",
       "      <td>tt11657662,tt14069590,tt2455546</td>\n",
       "    </tr>\n",
       "    <tr>\n",
       "      <th>12093620</th>\n",
       "      <td>nm9993716</td>\n",
       "      <td>Essias Loberg</td>\n",
       "      <td>NaN</td>\n",
       "      <td>NaN</td>\n",
       "      <td>NaN</td>\n",
       "      <td>NaN</td>\n",
       "    </tr>\n",
       "    <tr>\n",
       "      <th>12093621</th>\n",
       "      <td>nm9993717</td>\n",
       "      <td>Harikrishnan Rajan</td>\n",
       "      <td>NaN</td>\n",
       "      <td>NaN</td>\n",
       "      <td>cinematographer</td>\n",
       "      <td>tt8736744</td>\n",
       "    </tr>\n",
       "    <tr>\n",
       "      <th>12093622</th>\n",
       "      <td>nm9993718</td>\n",
       "      <td>Aayush Nair</td>\n",
       "      <td>NaN</td>\n",
       "      <td>NaN</td>\n",
       "      <td>cinematographer</td>\n",
       "      <td>NaN</td>\n",
       "    </tr>\n",
       "    <tr>\n",
       "      <th>12093623</th>\n",
       "      <td>nm9993719</td>\n",
       "      <td>Andre Hill</td>\n",
       "      <td>NaN</td>\n",
       "      <td>NaN</td>\n",
       "      <td>NaN</td>\n",
       "      <td>NaN</td>\n",
       "    </tr>\n",
       "  </tbody>\n",
       "</table>\n",
       "<p>12093624 rows × 6 columns</p>\n",
       "</div>"
      ],
      "text/plain": [
       "             nconst         primaryName  birthYear  deathYear  \\\n",
       "0         nm0000001        Fred Astaire     1899.0     1987.0   \n",
       "1         nm0000002       Lauren Bacall     1924.0     2014.0   \n",
       "2         nm0000003     Brigitte Bardot     1934.0        NaN   \n",
       "3         nm0000004        John Belushi     1949.0     1982.0   \n",
       "4         nm0000005      Ingmar Bergman     1918.0     2007.0   \n",
       "...             ...                 ...        ...        ...   \n",
       "12093619  nm9993714   Romeo del Rosario        NaN        NaN   \n",
       "12093620  nm9993716       Essias Loberg        NaN        NaN   \n",
       "12093621  nm9993717  Harikrishnan Rajan        NaN        NaN   \n",
       "12093622  nm9993718         Aayush Nair        NaN        NaN   \n",
       "12093623  nm9993719          Andre Hill        NaN        NaN   \n",
       "\n",
       "                            primaryProfession  \\\n",
       "0              soundtrack,actor,miscellaneous   \n",
       "1                          actress,soundtrack   \n",
       "2         actress,soundtrack,music_department   \n",
       "3                     actor,soundtrack,writer   \n",
       "4                       writer,director,actor   \n",
       "...                                       ...   \n",
       "12093619  animation_department,art_department   \n",
       "12093620                                  NaN   \n",
       "12093621                      cinematographer   \n",
       "12093622                      cinematographer   \n",
       "12093623                                  NaN   \n",
       "\n",
       "                                   knownForTitles  \n",
       "0         tt0050419,tt0031983,tt0072308,tt0053137  \n",
       "1         tt0071877,tt0038355,tt0037382,tt0117057  \n",
       "2         tt0049189,tt0056404,tt0057345,tt0054452  \n",
       "3         tt0080455,tt0072562,tt0077975,tt0078723  \n",
       "4         tt0050986,tt0060827,tt0083922,tt0050976  \n",
       "...                                           ...  \n",
       "12093619          tt11657662,tt14069590,tt2455546  \n",
       "12093620                                      NaN  \n",
       "12093621                                tt8736744  \n",
       "12093622                                      NaN  \n",
       "12093623                                      NaN  \n",
       "\n",
       "[12093624 rows x 6 columns]"
      ]
     },
     "execution_count": 13,
     "metadata": {},
     "output_type": "execute_result"
    }
   ],
   "source": [
    "name_df"
   ]
  }
 ],
 "metadata": {
  "kernelspec": {
   "display_name": "Python 3 (ipykernel)",
   "language": "python",
   "name": "python3"
  },
  "language_info": {
   "codemirror_mode": {
    "name": "ipython",
    "version": 3
   },
   "file_extension": ".py",
   "mimetype": "text/x-python",
   "name": "python",
   "nbconvert_exporter": "python",
   "pygments_lexer": "ipython3",
   "version": "3.9.12"
  }
 },
 "nbformat": 4,
 "nbformat_minor": 5
}
